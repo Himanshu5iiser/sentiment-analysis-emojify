{
 "cells": [
  {
   "cell_type": "markdown",
   "id": "6d7badec",
   "metadata": {},
   "source": [
    "<h1> Emojify! </h1>\n",
    "\n",
    "<h2> Input: where is the food </h2>\n",
    "\n",
    "<h2> Output: where is the food 🍴</h2>\n",
    "\n",
    "<br>\n",
    "\n",
    "<hr>\n",
    "<hr>\n",
    "\n",
    "<br>\n",
    "\n",
    "<p> 1. We'll use the <b>emoji</b> package to help display emoticons.</p>"
   ]
  },
  {
   "cell_type": "code",
   "execution_count": 18,
   "id": "ce18ae61",
   "metadata": {},
   "outputs": [],
   "source": [
    "# !pip3 install emoji\n"
   ]
  },
  {
   "cell_type": "markdown",
   "id": "21b05998",
   "metadata": {},
   "source": [
    "<br>\n",
    "\n",
    "<p> 2. Import relevant libraries. The <b>emo_utils</b> library has some useful functions for this exercise, such as mapping integers to emoticons. </p>"
   ]
  },
  {
   "cell_type": "code",
   "execution_count": 1,
   "id": "ad731dfa",
   "metadata": {},
   "outputs": [],
   "source": [
    "import os\n",
    "import numpy as np\n",
    "import pandas as pd\n",
    "from emo_utils import *\n",
    "import emoji\n",
    "import matplotlib.pyplot as plt\n",
    "\n",
    "import torch\n",
    "import torch.nn as nn\n",
    "from torch.autograd import Variable\n",
    "import torch.utils.data as Data\n",
    "import torchvision\n",
    "\n",
    "%matplotlib inline\n"
   ]
  },
  {
   "cell_type": "markdown",
   "id": "abbcbc3a",
   "metadata": {},
   "source": [
    "<br>\n",
    "\n",
    "<p> 3. Using <b>label_to_emoji(idx)</b> to map integers to emoticons. </p>"
   ]
  },
  {
   "cell_type": "code",
   "execution_count": 2,
   "id": "e216b9db",
   "metadata": {},
   "outputs": [
    {
     "name": "stdout",
     "output_type": "stream",
     "text": [
      "0 \t ❤️ \n",
      "\n",
      "1 \t ⚾ \n",
      "\n",
      "2 \t 😄 \n",
      "\n",
      "3 \t :disappointed: \n",
      "\n",
      "4 \t 🍴 \n",
      "\n"
     ]
    }
   ],
   "source": [
    "for idx in range(5):\n",
    "    print(idx,'\\t',label_to_emoji(idx),'\\n')\n",
    "    "
   ]
  },
  {
   "cell_type": "markdown",
   "id": "baab6ee6",
   "metadata": {},
   "source": [
    "<br>\n",
    "\n",
    "<p> 4. <b>train.csv</b> contains some training sentences. </p>"
   ]
  },
  {
   "cell_type": "code",
   "execution_count": 3,
   "id": "3781a231",
   "metadata": {},
   "outputs": [
    {
     "name": "stdout",
     "output_type": "stream",
     "text": [
      "(132, 2) \n",
      "\n",
      "never talk to me again 3 :disappointed:\n",
      "I am proud of your achievements 2 😄\n",
      "It is the worst day in my life 3 :disappointed:\n",
      "Miss you so much 0 ❤️\n",
      "food is life 4 🍴\n",
      "I love you mum 0 ❤️\n",
      "Stop saying bullshit 3 :disappointed:\n",
      "congratulations on your acceptance 2 😄\n",
      "The assignment is too long 3 :disappointed:\n",
      "I want to go play 1 ⚾\n"
     ]
    }
   ],
   "source": [
    "train_data = np.array(pd.read_csv('train.csv', header=None, index_col=False))\n",
    "print(train_data.shape,'\\n')\n",
    "\n",
    "X_train, Y_train = train_data[:,0], train_data[:,1]\n",
    "Y_train = np.array(Y_train, dtype=int)\n",
    "\n",
    "for idx in range(10):\n",
    "    print(X_train[idx], Y_train[idx], label_to_emoji(Y_train[idx]))\n"
   ]
  },
  {
   "cell_type": "markdown",
   "id": "448b8018",
   "metadata": {},
   "source": [
    "<br>\n",
    "\n",
    "<p> 5. <b>test.csv</b> contains some test sentences. </p>"
   ]
  },
  {
   "cell_type": "code",
   "execution_count": 4,
   "id": "627d35cd",
   "metadata": {},
   "outputs": [
    {
     "name": "stdout",
     "output_type": "stream",
     "text": [
      "(56, 2)\n",
      "I want to eat 4 🍴\n",
      "he did not answer 3 :disappointed:\n",
      "he got a very nice raise 2 😄\n",
      "she got me a nice present 2 😄\n",
      "ha ha ha it was so funny 2 😄\n",
      "he is a good friend 2 😄\n",
      "I am upset 3 :disappointed:\n",
      "We had such a lovely dinner tonight 2 😄\n",
      "where is the food 4 🍴\n",
      "Stop making this joke ha ha ha 2 😄\n"
     ]
    }
   ],
   "source": [
    "test_data = np.array(pd.read_csv('test.csv', header=None, index_col=False))\n",
    "print(test_data.shape)\n",
    "\n",
    "X_test, Y_test = test_data[:,0], test_data[:,1]\n",
    "Y_test = np.array(Y_test, dtype=int)\n",
    "\n",
    "for idx in range(10):\n",
    "    print(X_test[idx], Y_test[idx], label_to_emoji(Y_test[idx]))\n"
   ]
  },
  {
   "cell_type": "markdown",
   "id": "a9e92917",
   "metadata": {},
   "source": [
    "<br>\n",
    "\n",
    "<hr>\n",
    "\n",
    "<br>\n",
    "\n",
    "6. <b>glove.6B.50d.txt</b> contains 50-dimensional GloVe embeddings for some common english words."
   ]
  },
  {
   "cell_type": "code",
   "execution_count": 19,
   "id": "d67eae13",
   "metadata": {},
   "outputs": [],
   "source": [
    "word_to_index, index_to_word, word_to_vec_map = read_glove_vecs('glove.6B.50d.txt')\n"
   ]
  },
  {
   "cell_type": "markdown",
   "id": "632bd157",
   "metadata": {},
   "source": [
    "<br>\n",
    "\n",
    "<p> 7. An example of mapping a word to its unique index, and obtaining its GloVe embedding. </p>"
   ]
  },
  {
   "cell_type": "code",
   "execution_count": 6,
   "id": "01ec8e46",
   "metadata": {},
   "outputs": [
    {
     "name": "stdout",
     "output_type": "stream",
     "text": [
      "the index of cucumber in the vocabulary is: 113317 \n",
      "\n",
      "GloVe of cucumber is:\n",
      " [ 0.68224  -0.31608  -0.95201   0.47108   0.56571   0.13151   0.22457\n",
      "  0.094995 -1.3237   -0.51545  -0.39337   0.88488   0.93826   0.22931\n",
      "  0.088624 -0.53908   0.23396   0.73245  -0.019123 -0.26552  -0.40433\n",
      " -1.5832    1.1316    0.4419   -0.48218   0.4828    0.14938   1.1245\n",
      "  1.0159   -0.50213   0.83831  -0.31303   0.083242  1.7161    0.15024\n",
      "  1.0324   -1.5005    0.62348   0.54508  -0.88484   0.53279  -0.085119\n",
      "  0.02141  -0.56629   1.1463    0.6464    0.78318  -0.067662  0.22884\n",
      " -0.042453]\n",
      "\n",
      "the 289845th word in the vocabulary is potatoes\n"
     ]
    }
   ],
   "source": [
    "word = \"cucumber\"\n",
    "print(\"the index of\", word, \"in the vocabulary is:\", word_to_index[word],'\\n')\n",
    "print('GloVe of', word, \"is:\\n\", word_to_vec_map[word])\n",
    "\n",
    "index = 289845\n",
    "print(\"\\nthe\", str(index) + \"th word in the vocabulary is\", index_to_word[index])\n"
   ]
  },
  {
   "cell_type": "markdown",
   "id": "2ca25ae1",
   "metadata": {},
   "source": [
    "<br>\n",
    "\n",
    "<p> 8. Create a dataset to train in PyTorch. </p>"
   ]
  },
  {
   "cell_type": "code",
   "execution_count": 20,
   "id": "76fb80ad",
   "metadata": {},
   "outputs": [
    {
     "name": "stdout",
     "output_type": "stream",
     "text": [
      "(array([185457., 383068., 360915., 163237., 286375.,      0.,      0.,\n",
      "            0.,      0.,      0.]), 1)\n"
     ]
    }
   ],
   "source": [
    "def sentences_to_indices(X, word_to_index, max_len):\n",
    "    m = X.shape[0]\n",
    "    X_indices = np.zeros((m, max_len))\n",
    "    for i in range(m):\n",
    "        sentence_words = X[i].lower().split()\n",
    "        j = 0\n",
    "        for w in sentence_words:\n",
    "            X_indices[i, j] = int(word_to_index[w])\n",
    "            j = j + 1\n",
    "    return X_indices\n",
    "\n",
    "\n",
    "class emojiDataset(Data.Dataset):\n",
    "    def __init__(self, root, train=True, transform=None, target_transform=None, download=False):\n",
    "        self.root = root\n",
    "        self.transform = transform\n",
    "        self.target_transform = target_transform\n",
    "        self.train = train\n",
    "        traindata,trainlabels = read_csv(os.path.join(self.root,'train.csv'))\n",
    "        self.train_data = sentences_to_indices(traindata, word_to_index, 10)\n",
    "        self.train_labels = trainlabels\n",
    "        # self.train_labels = convert_to_one_hot(trainlabels, C=5)\n",
    "    def __getitem__(self, index):\n",
    "        if self.train:\n",
    "            data, target = self.train_data[index], self.train_labels[index]\n",
    "        else:\n",
    "            pass\n",
    "        if self.transform is not None:\n",
    "            pass\n",
    "        if self.target_transform is not None:\n",
    "            pass\n",
    "        return data, target\n",
    "    def __len__(self):\n",
    "        if self.train:\n",
    "            return 132\n",
    "        else:\n",
    "            return 0\n",
    "        \n",
    "train_data = emojiDataset(\n",
    "    root='./',\n",
    ")\n",
    "print(train_data[9])\n",
    "\n",
    "# train_loader = Data.DataLoader(dataset=train_data, batch_size=20, shuffle=True, num_workers=0)\n"
   ]
  },
  {
   "cell_type": "code",
   "execution_count": 22,
   "id": "faced-affiliation",
   "metadata": {},
   "outputs": [
    {
     "data": {
      "text/plain": [
       "(array([185457.,  52943., 293982., 268046., 394565.,  45460.,      0.,\n",
       "             0.,      0.,      0.]),\n",
       " 2)"
      ]
     },
     "execution_count": 22,
     "metadata": {},
     "output_type": "execute_result"
    }
   ],
   "source": [
    "train_data[1]"
   ]
  },
  {
   "cell_type": "code",
   "execution_count": 23,
   "id": "enormous-federal",
   "metadata": {},
   "outputs": [],
   "source": [
    "train_loader = Data.DataLoader(dataset=train_data, batch_size=20, shuffle=True, num_workers=0)"
   ]
  },
  {
   "cell_type": "code",
   "execution_count": 25,
   "id": "alive-rwanda",
   "metadata": {},
   "outputs": [
    {
     "name": "stdout",
     "output_type": "stream",
     "text": [
      "torch.Size([20, 10]) torch.Size([20])\n",
      "tensor([[170403., 170403., 170403., 193716., 383514., 336114., 155345.,      0.,\n",
      "              0.,      0.],\n",
      "        [185457., 225979., 254258., 382713.,      0.,      0.,      0.,      0.,\n",
      "              0.,      0.],\n",
      "        [185457., 387696.,  94875., 337662.,      0.,      0.,      0.,      0.,\n",
      "              0.,      0.],\n",
      "        [175199.,  90548., 264550., 126552.,  57189.,      0.,      0.,      0.,\n",
      "              0.,      0.],\n",
      "        [185457.,  52943., 293982., 268046., 394565.,  45460.,      0.,      0.,\n",
      "              0.,      0.],\n",
      "        [220930., 174642., 151204., 361190.,      0.,      0.,      0.,      0.,\n",
      "              0.,      0.],\n",
      "        [166369., 198213.,      0.,      0.,      0.,      0.,      0.,      0.,\n",
      "              0.,      0.],\n",
      "        [185457.,  52943., 377946., 124906.,      0.,      0.,      0.,      0.,\n",
      "              0.,      0.],\n",
      "        [185457.,  52943., 271178., 151204.,      0.,      0.,      0.,      0.,\n",
      "              0.,      0.],\n",
      "        [386887., 192973., 394565., 145839., 286410.,      0.,      0.,      0.,\n",
      "              0.,      0.],\n",
      "        [327864., 123517., 264550.,  56160., 254258., 356822.,      0.,      0.,\n",
      "              0.,      0.],\n",
      "        [361940.,  65963., 357212., 394475., 385664., 264550., 177231.,      0.,\n",
      "              0.,      0.],\n",
      "        [376819.,  58997., 175409.,      0.,      0.,      0.,      0.,      0.,\n",
      "              0.,      0.],\n",
      "        [358160., 192973., 336114., 155345.,      0.,      0.,      0.,      0.,\n",
      "              0.,      0.],\n",
      "        [185457., 164934., 183958.,  88126., 254258., 333051.,      0.,      0.,\n",
      "              0.,      0.],\n",
      "        [185457., 226278., 394475.,      0.,      0.,      0.,      0.,      0.,\n",
      "              0.,      0.],\n",
      "        [182540., 233708., 287518., 123517., 175199., 321938.,      0.,      0.,\n",
      "              0.,      0.],\n",
      "        [182540., 117064., 394475.,  61257., 357212.,      0.,      0.,      0.,\n",
      "              0.,      0.],\n",
      "        [327864., 335369.,  43010., 225985.,      0.,      0.,      0.,      0.,\n",
      "              0.,      0.],\n",
      "        [126552., 394475., 383068., 360915., 198476., 239105., 151349., 124461.,\n",
      "              0.,      0.]], dtype=torch.float64)\n",
      "tensor([2, 3, 2, 3, 2, 4, 2, 3, 4, 1, 3, 3, 4, 2, 3, 0, 1, 3, 2, 4])\n"
     ]
    }
   ],
   "source": [
    "for data in train_loader:\n",
    "    t, l = data\n",
    "    print(t.shape, l.shape)\n",
    "    print(t)\n",
    "    print(l)\n",
    "    break"
   ]
  },
  {
   "cell_type": "code",
   "execution_count": null,
   "id": "current-cooling",
   "metadata": {},
   "outputs": [],
   "source": []
  },
  {
   "cell_type": "markdown",
   "id": "46b406a8",
   "metadata": {},
   "source": [
    "<br>\n",
    "\n",
    "<p> 9. Create an embedding layer to obtain GloVe embeddings. </p>"
   ]
  },
  {
   "cell_type": "code",
   "execution_count": 26,
   "id": "2887abbb",
   "metadata": {},
   "outputs": [
    {
     "name": "stdout",
     "output_type": "stream",
     "text": [
      "(400001, 50)\n"
     ]
    }
   ],
   "source": [
    "def pretrained_embedding_layer(word_to_vec_map, word_to_index):\n",
    "    vocab_len = len(word_to_index) + 1  #word index begin with 1,plus 1 for padding 0\n",
    "    emb_dim = word_to_vec_map[\"cucumber\"].shape[0]\n",
    "    emb_matrix = np.zeros((vocab_len, emb_dim))\n",
    "    for word, index in word_to_index.items():\n",
    "        emb_matrix[index, :] = word_to_vec_map[word]\n",
    "    return emb_matrix\n",
    "\n",
    "emb_matrix = pretrained_embedding_layer(word_to_vec_map, word_to_index)\n",
    "print(emb_matrix.shape)\n"
   ]
  },
  {
   "cell_type": "markdown",
   "id": "540e54ca",
   "metadata": {},
   "source": [
    "<br>\n",
    "\n",
    "<p> 10. Define the network: </p>\n",
    "\n",
    "<img src=\"img_lstm_network.png\">\n",
    "\n",
    "<p> (image source: https://github.com/Kulbear/deep-learning-coursera) </p>"
   ]
  },
  {
   "cell_type": "code",
   "execution_count": 30,
   "id": "productive-motorcycle",
   "metadata": {},
   "outputs": [
    {
     "data": {
      "text/plain": [
       "torch.Size([3, 20])"
      ]
     },
     "execution_count": 30,
     "metadata": {},
     "output_type": "execute_result"
    }
   ],
   "source": [
    "rnn = nn.LSTM(10, 20, 2)\n",
    "\n",
    "#input_size – The number of expected features in the input x\n",
    "#hidden_size – The number of features in the hidden state h\n",
    "#num_layers – Number of recurrent layers. E.g., \n",
    "#setting num_layers=2 would mean stacking two LSTMs together \n",
    "#to form a stacked LSTM, with the second LSTM taking in outputs of \n",
    "#the first LSTM and computing the final results. Default: 1\n",
    "\n",
    "input = torch.randn(5, 3, 10)\n",
    "output = rnn(input)\n",
    "output[0][0].shape"
   ]
  },
  {
   "cell_type": "code",
   "execution_count": 31,
   "id": "cognitive-albert",
   "metadata": {},
   "outputs": [
    {
     "data": {
      "text/plain": [
       "torch.Size([5, 3, 20])"
      ]
     },
     "execution_count": 31,
     "metadata": {},
     "output_type": "execute_result"
    }
   ],
   "source": [
    "rnn = nn.RNN(10, 20, 2)\n",
    "input = torch.randn(5, 3, 10)\n",
    "output = rnn(input)\n",
    "output[0].shape"
   ]
  },
  {
   "cell_type": "code",
   "execution_count": 32,
   "id": "worth-sponsorship",
   "metadata": {},
   "outputs": [
    {
     "data": {
      "text/plain": [
       "torch.Size([5, 3, 20])"
      ]
     },
     "execution_count": 32,
     "metadata": {},
     "output_type": "execute_result"
    }
   ],
   "source": [
    "rnn = nn.GRU(10, 20, 2)\n",
    "input = torch.randn(5, 3, 10)\n",
    "output = rnn(input)\n",
    "output[0].shape"
   ]
  },
  {
   "cell_type": "code",
   "execution_count": 33,
   "id": "0ad5177a",
   "metadata": {},
   "outputs": [],
   "source": [
    "class myModel(nn.Module):\n",
    "    def __init__(self,vocab_size,embedding_dim,pretrained_weight):\n",
    "        super(myModel,self).__init__()\n",
    "        self.word_embeds = nn.Embedding(vocab_size, embedding_dim)\n",
    "        pretrained_weight = np.array(pretrained_weight)\n",
    "        self.word_embeds.weight.data.copy_(torch.from_numpy(pretrained_weight))\n",
    "        \n",
    "        self.rnn = nn.LSTM(embedding_dim, 128, 2,batch_first=True,dropout=0.5)\n",
    "        self.linear = nn.Linear(128,5)\n",
    "        self.softmax = nn.Softmax(dim=-1)\n",
    "\n",
    "    def forward(self,x):\n",
    "        out = self.word_embeds(x)\n",
    "        out, _ = self.rnn(out)\n",
    "        out = out[:, -1, :]\n",
    "        out = self.linear(out)\n",
    "        out = self.softmax(out)\n",
    "        return out\n",
    "    "
   ]
  },
  {
   "cell_type": "markdown",
   "id": "20136d04",
   "metadata": {},
   "source": [
    "<br>\n",
    "\n",
    "<p> 11. Create the network: </p>"
   ]
  },
  {
   "cell_type": "code",
   "execution_count": 34,
   "id": "2b8a048a",
   "metadata": {},
   "outputs": [
    {
     "data": {
      "text/plain": [
       "myModel(\n",
       "  (word_embeds): Embedding(400001, 50)\n",
       "  (rnn): LSTM(50, 128, num_layers=2, batch_first=True, dropout=0.5)\n",
       "  (linear): Linear(in_features=128, out_features=5, bias=True)\n",
       "  (softmax): Softmax(dim=-1)\n",
       ")"
      ]
     },
     "execution_count": 34,
     "metadata": {},
     "output_type": "execute_result"
    }
   ],
   "source": [
    "vocab_len = len(word_to_index) + 1\n",
    "model = myModel(vocab_len,50,emb_matrix)\n",
    "\n",
    "device = torch.device(\"cuda:0\" if torch.cuda.is_available() else \"cpu\")\n",
    "model.to(device)\n"
   ]
  },
  {
   "cell_type": "markdown",
   "id": "2242ac89",
   "metadata": {},
   "source": [
    "<p> 12. Define the loss function and the optimizers. </p>"
   ]
  },
  {
   "cell_type": "code",
   "execution_count": 35,
   "id": "08713e8f",
   "metadata": {},
   "outputs": [],
   "source": [
    "loss_func = nn.CrossEntropyLoss()\n",
    "\n",
    "optimizer1 = torch.optim.Adam(model.rnn.parameters(),lr=0.001)\n",
    "optimizer2 = torch.optim.Adam(model.linear.parameters(),lr=0.001)\n",
    "\n",
    "# optimizer2 = torch.optim.Adam(list(model.linear.parameters()+model.rnn.parameters()),lr=0.001)\n"
   ]
  },
  {
   "cell_type": "code",
   "execution_count": null,
   "id": "synthetic-cooling",
   "metadata": {},
   "outputs": [],
   "source": []
  },
  {
   "cell_type": "markdown",
   "id": "0dab50dc",
   "metadata": {},
   "source": [
    "<br>\n",
    "\n",
    "<p> 13. Start the training process.</p>"
   ]
  },
  {
   "cell_type": "code",
   "execution_count": 36,
   "id": "989bf7f6",
   "metadata": {},
   "outputs": [
    {
     "name": "stdout",
     "output_type": "stream",
     "text": [
      "epoch:  0 loss: 11.234149813652039\n",
      "epoch:  10 loss: 9.901391863822937\n",
      "epoch:  20 loss: 8.536113023757935\n",
      "epoch:  30 loss: 7.464289963245392\n",
      "epoch:  40 loss: 7.493804454803467\n"
     ]
    }
   ],
   "source": [
    "for epoch in range(50):\n",
    "    total_loss = 0\n",
    "    for step,(data,target) in enumerate(train_loader):\n",
    "        data = data.long()\n",
    "        target = target.long()\n",
    "        optimizer1.zero_grad()\n",
    "        optimizer2.zero_grad()\n",
    "        input = Variable(data).to(device)\n",
    "        target = Variable(target).to(device)\n",
    "        \n",
    "        output = model(input)\n",
    "        \n",
    "        loss = loss_func(output,target)\n",
    "        \n",
    "        loss.backward()\n",
    "        total_loss += loss.item()\n",
    "        optimizer1.step()\n",
    "        optimizer2.step()\n",
    "        \n",
    "    if epoch%10 == 0:\n",
    "        print('epoch: ', epoch, 'loss:', total_loss)\n",
    "        "
   ]
  },
  {
   "cell_type": "markdown",
   "id": "c0668212",
   "metadata": {},
   "source": [
    "<br>\n",
    "\n",
    "<p> 14. Test the trained network. </p>"
   ]
  },
  {
   "cell_type": "code",
   "execution_count": 17,
   "id": "ceeb69c9",
   "metadata": {},
   "outputs": [
    {
     "name": "stdout",
     "output_type": "stream",
     "text": [
      " prediction: I want to eat🍴\n",
      " prediction: he did not answer:disappointed:\n",
      " prediction: he got a very nice raise🍴\n",
      " prediction: she got me a nice present❤️\n",
      " prediction: ha ha ha it was so funny😄\n",
      " prediction: he is a good friend❤️\n",
      " prediction: I am upset:disappointed:\n",
      " prediction: We had such a lovely dinner tonight🍴\n",
      " prediction: where is the food🍴\n",
      " prediction: Stop making this joke ha ha ha😄\n",
      " prediction: where is the ball⚾\n",
      " prediction: work is hard😄\n",
      " prediction: This girl is messing with me❤️\n",
      " prediction: are you serious:disappointed:\n",
      " prediction: Let us go play baseball⚾\n",
      " prediction: This stupid grader is not working:disappointed:\n",
      " prediction: work is horrible:disappointed:\n",
      " prediction: Congratulation for having a baby😄\n",
      " prediction: stop pissing me off:disappointed:\n",
      " prediction: any suggestions for dinner🍴\n",
      " prediction: I love taking breaks:disappointed:\n",
      " prediction: you brighten my day❤️\n",
      " prediction: I boiled rice🍴\n",
      " prediction: she is a bully❤️\n",
      " prediction: Why are you feeling bad:disappointed:\n",
      " prediction: I am upset:disappointed:\n",
      " prediction: give me the ball⚾\n",
      " prediction: My grandmother is the love of my life❤️\n",
      " prediction: enjoy your game⚾\n",
      " prediction: valentine day is near😄\n",
      " prediction: I miss you so much❤️\n",
      " prediction: throw the ball⚾\n",
      " prediction: My life is so boring:disappointed:\n",
      " prediction: she said yes😄\n",
      " prediction: will you be my valentine❤️\n",
      " prediction: he can pitch really well⚾\n",
      " prediction: dance with me😄\n",
      " prediction: I am hungry❤️\n",
      " prediction: See you at the restaurant🍴\n",
      " prediction: I like to laugh😄\n",
      " prediction: I will run⚾\n",
      " prediction: I like your jacket❤️\n",
      " prediction: i miss her❤️\n",
      " prediction: what is your favorite baseball game⚾\n",
      " prediction: Good job😄\n",
      " prediction: I love you to the stars and back❤️\n",
      " prediction: What you did was awesome😄\n",
      " prediction: ha ha ha lol😄\n",
      " prediction: I do not want to joke❤️\n",
      " prediction: go away:disappointed:\n",
      " prediction: yesterday we lost again:disappointed:\n",
      " prediction: family is all I have❤️\n",
      " prediction: you are failing this exercise:disappointed:\n",
      " prediction: Good joke😄\n",
      " prediction: You deserve this nice prize❤️\n",
      " prediction: I did not have breakfast🍴\n"
     ]
    }
   ],
   "source": [
    "X_test_indices = sentences_to_indices(X_test, word_to_index, 10)\n",
    "X_test_indices = torch.from_numpy(X_test_indices)\n",
    "X_test_indices = Variable(X_test_indices.long()).to(device)\n",
    "pred = model(X_test_indices)\n",
    "# print(pred)\n",
    "num = np.zeros((X_test.shape[0]), dtype=int)\n",
    "for i in range(len(X_test)):\n",
    "    num[i] = np.argmax(pred.data[i].detach().cpu().numpy())\n",
    "    print(' prediction: ' + X_test[i] + label_to_emoji(num[i]).strip())\n",
    "    "
   ]
  },
  {
   "cell_type": "markdown",
   "id": "7b159649",
   "metadata": {},
   "source": [
    "<br>\n",
    "\n",
    "<p> 15. Contingency Matrix of class-wise accuracy </p>"
   ]
  },
  {
   "cell_type": "code",
   "execution_count": 18,
   "id": "b8e6806a",
   "metadata": {},
   "outputs": [
    {
     "name": "stdout",
     "output_type": "stream",
     "text": [
      "           ❤️    ⚾    😄    :disappointed:   🍴\n",
      "Predicted   0  1   2   3  4  All\n",
      "Actual                          \n",
      "0           6  0   0   1  0    7\n",
      "1           0  8   0   0  0    8\n",
      "2           5  0  11   0  2   18\n",
      "3           3  0   1  12  0   16\n",
      "4           1  0   0   0  6    7\n",
      "All        15  8  12  13  8   56\n"
     ]
    },
    {
     "data": {
      "image/png": "[encoded data removed]",
      "text/plain": [
       "<Figure size 288x288 with 2 Axes>"
      ]
     },
     "metadata": {
      "needs_background": "light"
     },
     "output_type": "display_data"
    }
   ],
   "source": [
    "print('           '+ label_to_emoji(0)+ '    ' + label_to_emoji(1) + '    ' +  label_to_emoji(2)+ '    ' + label_to_emoji(3)+'   ' + label_to_emoji(4))\n",
    "print(pd.crosstab(Y_test, num.reshape(56,), rownames=['Actual'], colnames=['Predicted'], margins=True))\n",
    "plot_confusion_matrix(Y_test, num)"
   ]
  },
  {
   "cell_type": "markdown",
   "id": "1a81c633",
   "metadata": {},
   "source": [
    "<br>\n",
    "\n",
    "<hr>\n",
    "\n",
    "<hr>\n",
    "\n",
    "<br>\n",
    "\n",
    "References:\n",
    "\n",
    "https://github.com/Kulbear/deep-learning-coursera\n",
    "\n",
    "https://github.com/sushantdhumak/Emojify\n",
    "\n",
    "https://github.com/cryer/emojify-pyTorch"
   ]
  }
 ],
 "metadata": {
  "kernelspec": {
   "display_name": "Python 3",
   "language": "python",
   "name": "python3"
  },
  "language_info": {
   "codemirror_mode": {
    "name": "ipython",
    "version": 3
   },
   "file_extension": ".py",
   "mimetype": "text/x-python",
   "name": "python",
   "nbconvert_exporter": "python",
   "pygments_lexer": "ipython3",
   "version": "3.8.10"
  }
 },
 "nbformat": 4,
 "nbformat_minor": 5
}
